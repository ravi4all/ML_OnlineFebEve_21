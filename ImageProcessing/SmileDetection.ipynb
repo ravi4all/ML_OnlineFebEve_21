{
 "cells": [
  {
   "cell_type": "code",
   "execution_count": 2,
   "metadata": {},
   "outputs": [],
   "source": [
    "import cv2"
   ]
  },
  {
   "cell_type": "code",
   "execution_count": 3,
   "metadata": {},
   "outputs": [],
   "source": [
    "face_haar = cv2.CascadeClassifier('haarcascade_frontalface_default.xml')\n",
    "eye_haar = cv2.CascadeClassifier('haarcascade_eye.xml')\n",
    "smile_haar = cv2.CascadeClassifier('haarcascade_smile.xml')"
   ]
  },
  {
   "cell_type": "code",
   "execution_count": 5,
   "metadata": {},
   "outputs": [],
   "source": [
    "capture = cv2.VideoCapture('video_1.mp4')\n",
    "\n",
    "while True:\n",
    "    flag, img = capture.read()\n",
    "    if flag:\n",
    "        img = cv2.resize(img, None, fx=0.5, fy=0.5)\n",
    "        faces = face_haar.detectMultiScale(img, 1.3)\n",
    "        for (x,y,w,h) in faces:\n",
    "            img = cv2.rectangle(img,(x,y),(x+w,y+h),(255,0,0),2)\n",
    "            r = img[y:y+h, x:x+w]\n",
    "            smile = smile_haar.detectMultiScale(r)\n",
    "            for (ex,ey,ew,eh) in smile:\n",
    "                cv2.rectangle(r,(ex,ey),(ex+ew,ey+eh),(0,255,0),2)\n",
    "        \n",
    "            cv2.imshow('img',img)\n",
    "        if cv2.waitKey(2) == 27:\n",
    "            break\n",
    "    else:\n",
    "        print(\"Camera not working\")\n",
    "        \n",
    "cv2.destroyAllWindows()\n",
    "capture.release()"
   ]
  },
  {
   "cell_type": "code",
   "execution_count": null,
   "metadata": {},
   "outputs": [],
   "source": []
  }
 ],
 "metadata": {
  "kernelspec": {
   "display_name": "Python 3",
   "language": "python",
   "name": "python3"
  },
  "language_info": {
   "codemirror_mode": {
    "name": "ipython",
    "version": 3
   },
   "file_extension": ".py",
   "mimetype": "text/x-python",
   "name": "python",
   "nbconvert_exporter": "python",
   "pygments_lexer": "ipython3",
   "version": "3.8.5"
  }
 },
 "nbformat": 4,
 "nbformat_minor": 5
}
